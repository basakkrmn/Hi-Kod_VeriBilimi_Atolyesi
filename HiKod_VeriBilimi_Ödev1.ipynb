{
 "cells": [
  {
   "cell_type": "code",
   "execution_count": null,
   "id": "232603e4-a217-4883-a1f5-4e5a9fd90be8",
   "metadata": {},
   "outputs": [],
   "source": [
    "# Ödev -1 Değişkenlere atanmış değerlerin veri tipleri arasında dönüşüm yapılır"
   ]
  },
  {
   "cell_type": "code",
   "execution_count": 2,
   "id": "d0e363ca-8fbe-4340-8829-d09cf926e8ac",
   "metadata": {},
   "outputs": [
    {
     "data": {
      "text/plain": [
       "4"
      ]
     },
     "execution_count": 2,
     "metadata": {},
     "output_type": "execute_result"
    }
   ],
   "source": [
    "int(4.8)"
   ]
  },
  {
   "cell_type": "code",
   "execution_count": 3,
   "id": "b3a7df2c-9219-4f43-bd93-44a3ea95c0f0",
   "metadata": {},
   "outputs": [
    {
     "data": {
      "text/plain": [
       "5.0"
      ]
     },
     "execution_count": 3,
     "metadata": {},
     "output_type": "execute_result"
    }
   ],
   "source": [
    "float(5)"
   ]
  },
  {
   "cell_type": "code",
   "execution_count": 5,
   "id": "c7accafe-63d8-4a54-8b2a-82e3ae987f2a",
   "metadata": {},
   "outputs": [
    {
     "data": {
      "text/plain": [
       "1"
      ]
     },
     "execution_count": 5,
     "metadata": {},
     "output_type": "execute_result"
    }
   ],
   "source": [
    "int(True)"
   ]
  },
  {
   "cell_type": "code",
   "execution_count": 6,
   "id": "3492df9a-0aff-4105-8a08-8583735e56c3",
   "metadata": {},
   "outputs": [
    {
     "data": {
      "text/plain": [
       "0"
      ]
     },
     "execution_count": 6,
     "metadata": {},
     "output_type": "execute_result"
    }
   ],
   "source": [
    "int(False)"
   ]
  },
  {
   "cell_type": "code",
   "execution_count": 7,
   "id": "ec92ece2-c1e6-4e78-a235-10950365a508",
   "metadata": {},
   "outputs": [
    {
     "data": {
      "text/plain": [
       "False"
      ]
     },
     "execution_count": 7,
     "metadata": {},
     "output_type": "execute_result"
    }
   ],
   "source": [
    "bool(0)"
   ]
  },
  {
   "cell_type": "code",
   "execution_count": 8,
   "id": "4c3c0844-2524-4cf1-bd68-86eca77de9ae",
   "metadata": {},
   "outputs": [
    {
     "data": {
      "text/plain": [
       "True"
      ]
     },
     "execution_count": 8,
     "metadata": {},
     "output_type": "execute_result"
    }
   ],
   "source": [
    "bool(1)"
   ]
  },
  {
   "cell_type": "code",
   "execution_count": 9,
   "id": "af241f0e-c391-4401-b2fa-d2fdcf21aefa",
   "metadata": {},
   "outputs": [
    {
     "data": {
      "text/plain": [
       "True"
      ]
     },
     "execution_count": 9,
     "metadata": {},
     "output_type": "execute_result"
    }
   ],
   "source": [
    "bool(\"Hi Kod\")"
   ]
  },
  {
   "cell_type": "code",
   "execution_count": 10,
   "id": "2daaf2c2-8c34-429c-9ce3-b5b012024045",
   "metadata": {},
   "outputs": [
    {
     "data": {
      "text/plain": [
       "5"
      ]
     },
     "execution_count": 10,
     "metadata": {},
     "output_type": "execute_result"
    }
   ],
   "source": [
    "int(\"5\")"
   ]
  },
  {
   "cell_type": "code",
   "execution_count": null,
   "id": "debc0bc5-3667-47d8-ba8e-edee9841d980",
   "metadata": {},
   "outputs": [],
   "source": [
    "#Ödev-2 İsimlerden oluşan üç değişkene yaş değişkenleri atanır.Belirlenen üç değişken birbiriyle karşılaştırma operatörleriyle karşılaştırılır.\n",
    "#Bu karşılaştırmya mantıksal operatörler de eklenir ."
   ]
  },
  {
   "cell_type": "code",
   "execution_count": 11,
   "id": "54c23a0a-c66f-40cd-a3e7-fa1683d909f9",
   "metadata": {},
   "outputs": [],
   "source": [
    "Duru = 17\n",
    "Irmak = 10\n",
    "Başak = 22"
   ]
  },
  {
   "cell_type": "code",
   "execution_count": 12,
   "id": "95504699-3230-4441-8511-a3823d5b8b50",
   "metadata": {},
   "outputs": [
    {
     "data": {
      "text/plain": [
       "17"
      ]
     },
     "execution_count": 12,
     "metadata": {},
     "output_type": "execute_result"
    }
   ],
   "source": [
    "Duru"
   ]
  },
  {
   "cell_type": "code",
   "execution_count": 13,
   "id": "4f99dd73-229c-43e8-9f1d-48b55b89210b",
   "metadata": {},
   "outputs": [
    {
     "data": {
      "text/plain": [
       "False"
      ]
     },
     "execution_count": 13,
     "metadata": {},
     "output_type": "execute_result"
    }
   ],
   "source": [
    "Duru == Başak"
   ]
  },
  {
   "cell_type": "code",
   "execution_count": 14,
   "id": "884839ed-3bc7-4a56-bb00-20e287518ce3",
   "metadata": {},
   "outputs": [
    {
     "data": {
      "text/plain": [
       "True"
      ]
     },
     "execution_count": 14,
     "metadata": {},
     "output_type": "execute_result"
    }
   ],
   "source": [
    "Başak !=Irmak"
   ]
  },
  {
   "cell_type": "code",
   "execution_count": 15,
   "id": "d1a98d47-f240-4f09-8d53-0bb0ece085ef",
   "metadata": {},
   "outputs": [
    {
     "data": {
      "text/plain": [
       "True"
      ]
     },
     "execution_count": 15,
     "metadata": {},
     "output_type": "execute_result"
    }
   ],
   "source": [
    "Irmak < Duru"
   ]
  },
  {
   "cell_type": "code",
   "execution_count": 16,
   "id": "debd9d8f-4c8f-4383-ad92-25133e48b3a6",
   "metadata": {},
   "outputs": [
    {
     "data": {
      "text/plain": [
       "True"
      ]
     },
     "execution_count": 16,
     "metadata": {},
     "output_type": "execute_result"
    }
   ],
   "source": [
    "Başak > Duru"
   ]
  },
  {
   "cell_type": "code",
   "execution_count": 17,
   "id": "3a05525d-979e-44d1-bab4-aa016cf85a8a",
   "metadata": {},
   "outputs": [
    {
     "data": {
      "text/plain": [
       "True"
      ]
     },
     "execution_count": 17,
     "metadata": {},
     "output_type": "execute_result"
    }
   ],
   "source": [
    "Duru > Irmak and Başak > Duru"
   ]
  },
  {
   "cell_type": "code",
   "execution_count": 18,
   "id": "fdedd3d7-0c1d-4fb7-94ab-ecd4dab7943b",
   "metadata": {},
   "outputs": [
    {
     "data": {
      "text/plain": [
       "False"
      ]
     },
     "execution_count": 18,
     "metadata": {},
     "output_type": "execute_result"
    }
   ],
   "source": [
    "Irmak > Başak and Duru < Başak"
   ]
  },
  {
   "cell_type": "code",
   "execution_count": 19,
   "id": "1c8a76bc-aeda-4c59-9ed6-d0d90eb07089",
   "metadata": {},
   "outputs": [
    {
     "data": {
      "text/plain": [
       "False"
      ]
     },
     "execution_count": 19,
     "metadata": {},
     "output_type": "execute_result"
    }
   ],
   "source": [
    "Irmak > Duru or Duru > Başak"
   ]
  },
  {
   "cell_type": "code",
   "execution_count": 20,
   "id": "7bc167c1-7fe7-4079-9cbe-4b6681da0c97",
   "metadata": {},
   "outputs": [
    {
     "data": {
      "text/plain": [
       "True"
      ]
     },
     "execution_count": 20,
     "metadata": {},
     "output_type": "execute_result"
    }
   ],
   "source": [
    "Başak > Duru or Duru < Irmak"
   ]
  },
  {
   "cell_type": "code",
   "execution_count": 21,
   "id": "0a296f2e-0635-4ed2-8427-10d1691acc5b",
   "metadata": {},
   "outputs": [
    {
     "data": {
      "text/plain": [
       "False"
      ]
     },
     "execution_count": 21,
     "metadata": {},
     "output_type": "execute_result"
    }
   ],
   "source": [
    "not (Duru > Irmak and Başak > Duru)"
   ]
  },
  {
   "cell_type": "code",
   "execution_count": 22,
   "id": "993f4b2d-e835-47eb-8a56-5f6c672f1f16",
   "metadata": {},
   "outputs": [
    {
     "data": {
      "text/plain": [
       "True"
      ]
     },
     "execution_count": 22,
     "metadata": {},
     "output_type": "execute_result"
    }
   ],
   "source": [
    "not (Irmak > Duru or Duru>Başak)"
   ]
  },
  {
   "cell_type": "code",
   "execution_count": null,
   "id": "ecff9bff-0817-4564-acec-7371fb9b49af",
   "metadata": {},
   "outputs": [],
   "source": [
    "# Ödev-3 Kullanıcıdan iki değer girmesi istenir.Girilen değerlerin toplama,çıkarma,çarpma,bölme sonuçları yazdırılır"
   ]
  },
  {
   "cell_type": "code",
   "execution_count": 1,
   "id": "01a5b947-b882-414d-afad-5d4905632dd0",
   "metadata": {},
   "outputs": [
    {
     "name": "stdout",
     "output_type": "stream",
     "text": [
      "num1 :  20\n"
     ]
    }
   ],
   "source": [
    "num1= float(input(\"num1 : \"))"
   ]
  },
  {
   "cell_type": "code",
   "execution_count": 2,
   "id": "abe0102b-39b2-4564-b418-41765b3f95a2",
   "metadata": {},
   "outputs": [
    {
     "name": "stdout",
     "output_type": "stream",
     "text": [
      "num2 :  4\n"
     ]
    }
   ],
   "source": [
    "num2= float(input(\"num2 : \"))"
   ]
  },
  {
   "cell_type": "code",
   "execution_count": 3,
   "id": "bedcadd7-59a4-4383-aec4-431f4fefe7e0",
   "metadata": {},
   "outputs": [
    {
     "name": "stdout",
     "output_type": "stream",
     "text": [
      "24.0\n"
     ]
    }
   ],
   "source": [
    "sum=num1+num2\n",
    "print(sum)"
   ]
  },
  {
   "cell_type": "code",
   "execution_count": 4,
   "id": "88270dd0-5d1b-41a2-9a2a-e1826adbb9f8",
   "metadata": {},
   "outputs": [
    {
     "name": "stdout",
     "output_type": "stream",
     "text": [
      "16.0\n"
     ]
    }
   ],
   "source": [
    "sub=num1-num2\n",
    "print(sub)"
   ]
  },
  {
   "cell_type": "code",
   "execution_count": 5,
   "id": "0e052f1f-9d29-4e83-a372-56789b581b68",
   "metadata": {},
   "outputs": [
    {
     "name": "stdout",
     "output_type": "stream",
     "text": [
      "80.0\n"
     ]
    }
   ],
   "source": [
    "mul=num1*num2\n",
    "print(mul)"
   ]
  },
  {
   "cell_type": "code",
   "execution_count": 8,
   "id": "28ced4fc-59de-415f-8caa-cb2f63d2b836",
   "metadata": {},
   "outputs": [
    {
     "name": "stdout",
     "output_type": "stream",
     "text": [
      "5.0\n"
     ]
    }
   ],
   "source": [
    "if num2 !=0:\n",
    "  div=num1/num2\n",
    "  print(div)\n",
    "else:\n",
    "  print(\"this is undefined\")"
   ]
  },
  {
   "cell_type": "code",
   "execution_count": null,
   "id": "5e49271f-e010-4d1d-bd20-20ca2113cd51",
   "metadata": {},
   "outputs": [],
   "source": [
    "#Ödev -4 Kullanıcıdan isim ,yaş ,şehir ve meslek bilgileri istenir ve cevapları yazdırılır."
   ]
  },
  {
   "cell_type": "code",
   "execution_count": 2,
   "id": "6eee9d49-372b-4122-b796-971b1d0959bf",
   "metadata": {},
   "outputs": [
    {
     "name": "stdout",
     "output_type": "stream",
     "text": [
      "name :  Andrew\n"
     ]
    },
    {
     "name": "stdout",
     "output_type": "stream",
     "text": [
      "Andrew\n"
     ]
    }
   ],
   "source": [
    "name = input (\"name : \")\n",
    "print(name)"
   ]
  },
  {
   "cell_type": "code",
   "execution_count": 1,
   "id": "da282376-3727-4c10-aba2-6779f8ae1c16",
   "metadata": {},
   "outputs": [
    {
     "name": "stdout",
     "output_type": "stream",
     "text": [
      "surname :  Lincoln\n"
     ]
    },
    {
     "name": "stdout",
     "output_type": "stream",
     "text": [
      "Lincoln\n"
     ]
    }
   ],
   "source": [
    "surname = input(\"surname : \")\n",
    "print(surname)"
   ]
  },
  {
   "cell_type": "code",
   "execution_count": 3,
   "id": "2c96bd2d-20b8-48bb-8e80-bcfb35ad59fd",
   "metadata": {},
   "outputs": [
    {
     "name": "stdout",
     "output_type": "stream",
     "text": [
      "age :  51\n"
     ]
    },
    {
     "name": "stdout",
     "output_type": "stream",
     "text": [
      "51\n"
     ]
    }
   ],
   "source": [
    "age=int(input(\"age : \"))\n",
    "print(age)"
   ]
  },
  {
   "cell_type": "code",
   "execution_count": 4,
   "id": "aceb47ae-59e5-44f2-92ce-b8ca271fdeed",
   "metadata": {},
   "outputs": [
    {
     "name": "stdout",
     "output_type": "stream",
     "text": [
      "city :  London\n"
     ]
    },
    {
     "name": "stdout",
     "output_type": "stream",
     "text": [
      "London\n"
     ]
    }
   ],
   "source": [
    "city= input(\"city : \")\n",
    "print(city)"
   ]
  },
  {
   "cell_type": "code",
   "execution_count": 6,
   "id": "25069f18-fda4-4253-a830-8d4b3151922c",
   "metadata": {},
   "outputs": [
    {
     "name": "stdout",
     "output_type": "stream",
     "text": [
      "job:  Actor\n"
     ]
    },
    {
     "name": "stdout",
     "output_type": "stream",
     "text": [
      "Actor\n"
     ]
    }
   ],
   "source": [
    "job= input(\"job: \")\n",
    "print(job)"
   ]
  },
  {
   "cell_type": "code",
   "execution_count": null,
   "id": "d33c779b-b026-47af-8f34-7812e0c5fafb",
   "metadata": {},
   "outputs": [],
   "source": [
    "#Ödev-5 \"Hi-Kod Veri Bilimi Atölyesi \" ifadesi bir değişkene tanımlanır.\n",
    "# 1.İfadedeki her bir kelimeyi (\"Hi-Kod\",\"Veri\", Bilimi\",\"Atölyesi\")değişken içinden seçilir"
   ]
  },
  {
   "cell_type": "code",
   "execution_count": 12,
   "id": "254432ce-459c-478a-bae0-72c0f07476aa",
   "metadata": {},
   "outputs": [
    {
     "data": {
      "text/plain": [
       "['Hi-Kod', 'Veri', 'Bilimi', 'Atölyesi']"
      ]
     },
     "execution_count": 12,
     "metadata": {},
     "output_type": "execute_result"
    }
   ],
   "source": [
    "bootcamp = \"Hi-Kod Veri Bilimi Atölyesi\"\n",
    "bootcamp.split()"
   ]
  },
  {
   "cell_type": "code",
   "execution_count": null,
   "id": "e35128fd-aa48-4735-9d43-325bdb9f178d",
   "metadata": {},
   "outputs": [],
   "source": [
    "#2.İfade hepsi büyük harf olacak hale çevrilir."
   ]
  },
  {
   "cell_type": "code",
   "execution_count": 9,
   "id": "dd8e20fa-05bf-4536-afd8-269cbf89deae",
   "metadata": {},
   "outputs": [
    {
     "data": {
      "text/plain": [
       "'HI-KOD VERI BILIMI ATÖLYESI'"
      ]
     },
     "execution_count": 9,
     "metadata": {},
     "output_type": "execute_result"
    }
   ],
   "source": [
    "bootcamp.upper()"
   ]
  },
  {
   "cell_type": "code",
   "execution_count": null,
   "id": "7167d87c-c6cf-4c39-8da3-a67b0f0db2cf",
   "metadata": {},
   "outputs": [],
   "source": [
    "#3.İfade hepsi küçük harf olacak hale çevrilir"
   ]
  },
  {
   "cell_type": "code",
   "execution_count": 10,
   "id": "2a08da5f-8e0f-4f77-aafa-c6c7aea0e8ad",
   "metadata": {},
   "outputs": [
    {
     "data": {
      "text/plain": [
       "'hi-kod veri bilimi atölyesi'"
      ]
     },
     "execution_count": 10,
     "metadata": {},
     "output_type": "execute_result"
    }
   ],
   "source": [
    "bootcamp.lower()"
   ]
  },
  {
   "cell_type": "code",
   "execution_count": null,
   "id": "178e002e-6434-4f65-ae14-3a1fef77e71f",
   "metadata": {},
   "outputs": [],
   "source": [
    "#\"0123456789\" ifadesindeki yalnızca çift sayıları ve tek sayıları seçme"
   ]
  },
  {
   "cell_type": "code",
   "execution_count": 13,
   "id": "db5abf13-f208-4f59-82f3-5cb9a747a3cd",
   "metadata": {},
   "outputs": [],
   "source": [
    "number= \"0123456789\""
   ]
  },
  {
   "cell_type": "code",
   "execution_count": 14,
   "id": "aa16ea95-be0a-48ee-b2ee-661697d5bd59",
   "metadata": {},
   "outputs": [
    {
     "data": {
      "text/plain": [
       "'02468'"
      ]
     },
     "execution_count": 14,
     "metadata": {},
     "output_type": "execute_result"
    }
   ],
   "source": [
    "number[0:10:2]"
   ]
  },
  {
   "cell_type": "code",
   "execution_count": 15,
   "id": "da16882a-2584-4b9a-a8b5-9a1464f36380",
   "metadata": {},
   "outputs": [
    {
     "data": {
      "text/plain": [
       "'13579'"
      ]
     },
     "execution_count": 15,
     "metadata": {},
     "output_type": "execute_result"
    }
   ],
   "source": [
    "number[1:10:2]"
   ]
  },
  {
   "cell_type": "code",
   "execution_count": null,
   "id": "81c64297-77c9-43d6-9892-660e4806e943",
   "metadata": {},
   "outputs": [],
   "source": []
  }
 ],
 "metadata": {
  "kernelspec": {
   "display_name": "Python 3 (ipykernel)",
   "language": "python",
   "name": "python3"
  },
  "language_info": {
   "codemirror_mode": {
    "name": "ipython",
    "version": 3
   },
   "file_extension": ".py",
   "mimetype": "text/x-python",
   "name": "python",
   "nbconvert_exporter": "python",
   "pygments_lexer": "ipython3",
   "version": "3.12.3"
  }
 },
 "nbformat": 4,
 "nbformat_minor": 5
}
