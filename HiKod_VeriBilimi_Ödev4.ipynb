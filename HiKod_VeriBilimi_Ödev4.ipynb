{
 "cells": [
  {
   "cell_type": "code",
   "execution_count": null,
   "metadata": {},
   "outputs": [],
   "source": [
    "# Ödev-1 Aşağıdaki işlemleri indexing ve slicing kullanarak liste üzerinde uygulayın.\n",
    "# liste = [\"Python\",True,9,\"3\",8.4,\"Hi-Kod\",\"False\",4.7]\n",
    "# \"3\" değerine ulaşmak için indexleme yapın.\n",
    "# \"Hi-Kod\" değerine ulaşmak için indexleme yapın.\n",
    "# 4.7 değerine ulaşmak için indexleme yapın.\n",
    "# 9,\"3\",8.4,\"Hi-Kod\" değerlerine ulaşmak için slicing yapın.\n",
    "# 8.4,\"Hi-Kod\",\"False\",4.7 değerlerine ulaşmak için slicing yapın."
   ]
  },
  {
   "cell_type": "code",
   "execution_count": null,
   "metadata": {},
   "outputs": [],
   "source": [
    "liste = [\"Python\",True,9,\"3\",8.4,\"Hi-Kod\",\"False\",4.7]"
   ]
  },
  {
   "cell_type": "code",
   "execution_count": 3,
   "metadata": {},
   "outputs": [
    {
     "data": {
      "text/plain": [
       "'3'"
      ]
     },
     "execution_count": 3,
     "metadata": {},
     "output_type": "execute_result"
    }
   ],
   "source": [
    "liste[3]"
   ]
  },
  {
   "cell_type": "code",
   "execution_count": 4,
   "metadata": {},
   "outputs": [
    {
     "data": {
      "text/plain": [
       "'Hi-Kod'"
      ]
     },
     "execution_count": 4,
     "metadata": {},
     "output_type": "execute_result"
    }
   ],
   "source": [
    "liste[5]"
   ]
  },
  {
   "cell_type": "code",
   "execution_count": 5,
   "metadata": {},
   "outputs": [
    {
     "data": {
      "text/plain": [
       "4.7"
      ]
     },
     "execution_count": 5,
     "metadata": {},
     "output_type": "execute_result"
    }
   ],
   "source": [
    "liste[-1]\n"
   ]
  },
  {
   "cell_type": "code",
   "execution_count": 7,
   "metadata": {},
   "outputs": [
    {
     "data": {
      "text/plain": [
       "[9, '3', 8.4, 'Hi-Kod']"
      ]
     },
     "execution_count": 7,
     "metadata": {},
     "output_type": "execute_result"
    }
   ],
   "source": [
    "liste[2:6]"
   ]
  },
  {
   "cell_type": "code",
   "execution_count": 8,
   "metadata": {},
   "outputs": [
    {
     "data": {
      "text/plain": [
       "[8.4, 'Hi-Kod', 'False', 4.7]"
      ]
     },
     "execution_count": 8,
     "metadata": {},
     "output_type": "execute_result"
    }
   ],
   "source": [
    "liste[4:]"
   ]
  },
  {
   "cell_type": "code",
   "execution_count": null,
   "metadata": {},
   "outputs": [],
   "source": [
    "# Ödev-2 Verilen listede bulunan string veri tipindeki öğeleri yeni_liste isimli listeye eklenir.\n",
    "# liste = [\"Python\",True,9,\"3\",8.4,\"Hi-Kod\",\"False\",4.7]"
   ]
  },
  {
   "cell_type": "code",
   "execution_count": 19,
   "metadata": {},
   "outputs": [
    {
     "data": {
      "text/plain": [
       "['Python', '3', 'Hi-Kod', 'False']"
      ]
     },
     "execution_count": 19,
     "metadata": {},
     "output_type": "execute_result"
    }
   ],
   "source": [
    "liste = [\"Python\",True,9,\"3\",8.4,\"Hi-Kod\",\"False\",4.7]\n",
    "\n",
    "new_list = []\n",
    "\n",
    "for string in liste :\n",
    "    if type(string)==str:\n",
    "        new_list.append(string)\n",
    "\n",
    "new_list  \n",
    "              \n"
   ]
  },
  {
   "cell_type": "code",
   "execution_count": null,
   "metadata": {},
   "outputs": [],
   "source": [
    "# Ödev-3 Enumerate methodunu araştırın ve aşağıdaki örneği enumerate methodu ile yapın.\n",
    "# for index in range(len(meyveler)):\n",
    "#  print(\"{}. indexte bulunan meyve: {}\".format(index,meyveler[index])"
   ]
  },
  {
   "cell_type": "code",
   "execution_count": 21,
   "metadata": {},
   "outputs": [
    {
     "name": "stdout",
     "output_type": "stream",
     "text": [
      "Index: 1, fruit : Apple\n",
      "Index: 2, fruit : Banana\n",
      "Index: 3, fruit : Cherry\n",
      "Index: 4, fruit : Date\n",
      "Index: 5, fruit : Grapes\n",
      "Index: 6, fruit : Mango\n",
      "Index: 7, fruit : Orange\n",
      "Index: 8, fruit : Peach\n",
      "Index: 9, fruit : Strawberry\n",
      "Index: 10, fruit : Watermelon\n"
     ]
    }
   ],
   "source": [
    "fruits = [\"Apple\", \"Banana\", \"Cherry\", \"Date\", \"Grapes\", \"Mango\", \"Orange\", \"Peach\", \"Strawberry\", \"Watermelon\"]\n",
    "\n",
    "for index , fruit in enumerate(fruits) :\n",
    "    print(f\"Index: {index+1}, fruit : {fruit}\")"
   ]
  }
 ],
 "metadata": {
  "kernelspec": {
   "display_name": "Python 3",
   "language": "python",
   "name": "python3"
  },
  "language_info": {
   "codemirror_mode": {
    "name": "ipython",
    "version": 3
   },
   "file_extension": ".py",
   "mimetype": "text/x-python",
   "name": "python",
   "nbconvert_exporter": "python",
   "pygments_lexer": "ipython3",
   "version": "3.12.3"
  }
 },
 "nbformat": 4,
 "nbformat_minor": 2
}
