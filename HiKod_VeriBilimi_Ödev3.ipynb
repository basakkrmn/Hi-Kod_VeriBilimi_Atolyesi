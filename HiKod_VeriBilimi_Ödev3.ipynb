{
 "cells": [
  {
   "cell_type": "code",
   "execution_count": null,
   "metadata": {},
   "outputs": [],
   "source": [
    "# Ödev-1 Kullanıcıdan pi değeri ve yarıçap bilgisi alarak dairenin alanını hesaplayan bir fonksiyon oluşturulur."
   ]
  },
  {
   "cell_type": "code",
   "execution_count": 1,
   "metadata": {},
   "outputs": [
    {
     "name": "stdout",
     "output_type": "stream",
     "text": [
      "Radius :  5.0\n",
      "The area of the circle is:  78.5\n"
     ]
    }
   ],
   "source": [
    "def area_of_circle(radius) :\n",
    "    pi_number =3.14\n",
    "    area = pi_number *radius**2\n",
    "    return area\n",
    "\n",
    "radius = float(input(\"enter the vaule of radius: \"))\n",
    "print(\"Radius : \",radius)\n",
    "\n",
    "circle_area =area_of_circle(radius)\n",
    "print(\"The area of the circle is: \",circle_area)"
   ]
  },
  {
   "cell_type": "code",
   "execution_count": null,
   "metadata": {},
   "outputs": [],
   "source": [
    "# Ödev-2 Faktöriyel adında fonksiyon oluşturulur. Döngü kullanarak parametre olarak girilen sayının faktöriyeli hesaplanır. \n",
    "# Format metodunu kullanılarak ekrana yazdırılır."
   ]
  },
  {
   "cell_type": "code",
   "execution_count": 4,
   "metadata": {},
   "outputs": [
    {
     "name": "stdout",
     "output_type": "stream",
     "text": [
      "Number :  5\n",
      "The result of 5! is : 120\n"
     ]
    }
   ],
   "source": [
    "def factorial(number) :\n",
    "    factorial =1\n",
    "    if number ==0 or number==1 :\n",
    "        return 1\n",
    "    else :\n",
    "        for i in range(2,number+1):\n",
    "            factorial *= i\n",
    "    return factorial\n",
    "        \n",
    "number = int(input(\"Enter the number for which you want to find the factorial : \"))\n",
    "print(\"Number : \",number)\n",
    "\n",
    "result_of_factorial = factorial(number)\n",
    "print(\"The result of {}! is : {}\".format(number,result_of_factorial))"
   ]
  },
  {
   "cell_type": "code",
   "execution_count": null,
   "metadata": {},
   "outputs": [],
   "source": [
    "# Ödev-3 Kişinin fonksiyona doğum yılını vererek kaç yaşında olduğunu hesaplayan bir fonksiyon oluşturun. "
   ]
  },
  {
   "cell_type": "code",
   "execution_count": 9,
   "metadata": {},
   "outputs": [
    {
     "name": "stdout",
     "output_type": "stream",
     "text": [
      "Current year :  2024\n",
      "Birth year :  1964\n",
      "Your age is : 60\n"
     ]
    }
   ],
   "source": [
    "def how_old_are_you(current_year,birth_year) :\n",
    "   age=current_year-birth_year\n",
    "   return age\n",
    "\n",
    "current_year =int(input(\"Please enter your current year: \"))\n",
    "print(\"Current year : \",current_year)\n",
    "birth_year = int(input(\"Please enter your birth year : \"))\n",
    "print(\"Birth year : \",birth_year)\n",
    "\n",
    "your_age = how_old_are_you(current_year,birth_year)\n",
    "print(f\"Your age is : {your_age}\")\n"
   ]
  },
  {
   "cell_type": "code",
   "execution_count": null,
   "metadata": {},
   "outputs": [],
   "source": [
    "# Ödev-4 Doğum yılı ve isim bilgisi verilen fonksiyon kişinin emekli olup olmadığını söylesin.(Kişi 65 yaşında ise emekli olur.) \n",
    "# Burada yaş hesabını yukarıdaki örnekteki fonksiyonu kullanarak yapsın.(Yani fonksiyon içinde fonksiyon kullanmanızı istiyorum :)) \n",
    "# Kişi 65 yaşında ya da daha fazlaysa \"Emekli oldunuz\" yanıtını,\n",
    "# 65 yaşından küçükse emekliliğine kaç yıl kaldığını da hesaplayarak \"(isim) emekliliğine (yıl) kaldı.\" yanıtını versin"
   ]
  },
  {
   "cell_type": "code",
   "execution_count": 12,
   "metadata": {},
   "outputs": [
    {
     "name": "stdout",
     "output_type": "stream",
     "text": [
      "Name:  Duru\n",
      "Current year :  2024\n",
      "Birth year :  2007\n",
      "Your age is : 17\n",
      "48 years left until Duru's retirement\n"
     ]
    }
   ],
   "source": [
    "def how_old_are_you(current_year,birth_year) :\n",
    "   age=current_year-birth_year\n",
    "   return age\n",
    "\n",
    "def retirement(person,current_year,birth_year):\n",
    "    your_age = how_old_are_you(current_year,birth_year)\n",
    "    print(f\"Your age is : {your_age}\")\n",
    "\n",
    "    if your_age >= 65 :\n",
    "        print(\"Congratulations, you're retired.\")\n",
    "    else :\n",
    "        remaining_year = 65-your_age\n",
    "        print(f\"{remaining_year} years left until {person}'s retirement\")\n",
    "\n",
    "person = input(\"Please enter your name : \")\n",
    "print(\"Name: \",person)\n",
    "\n",
    "current_year =int(input(\"Please enter your current year: \"))\n",
    "print(\"Current year : \",current_year)\n",
    "birth_year = int(input(\"Please enter your birth year : \"))\n",
    "print(\"Birth year : \",birth_year)\n",
    "\n",
    "retirement(person,current_year,birth_year)\n"
   ]
  }
 ],
 "metadata": {
  "kernelspec": {
   "display_name": "Python 3",
   "language": "python",
   "name": "python3"
  },
  "language_info": {
   "codemirror_mode": {
    "name": "ipython",
    "version": 3
   },
   "file_extension": ".py",
   "mimetype": "text/x-python",
   "name": "python",
   "nbconvert_exporter": "python",
   "pygments_lexer": "ipython3",
   "version": "3.12.3"
  }
 },
 "nbformat": 4,
 "nbformat_minor": 2
}
